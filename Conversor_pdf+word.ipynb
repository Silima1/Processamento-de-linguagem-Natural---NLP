{
 "cells": [
  {
   "cell_type": "code",
   "execution_count": 38,
   "id": "c3b45672",
   "metadata": {},
   "outputs": [],
   "source": [
    "import aspose.words as aw"
   ]
  },
  {
   "cell_type": "code",
   "execution_count": 39,
   "id": "0b1739e1",
   "metadata": {},
   "outputs": [
    {
     "data": {
      "text/plain": [
       "'\\nimport aspose.words as aw\\n\\n# create PDF load options\\nloadOptions = aw.saving.PdfLoadOptions()\\nloadOptions.load_format = aw.LoadFormat.PDF \\n\\n# set index of the starting page and page count\\nloadOptions.page_index = 0\\nloadOptions.page_count = 1\\n\\n# skip images in PDF\\nloadOptions.skip_pdf_images = True\\n\\n# to set password for encrypted PDF files\\n#loadOptions.password = \"12345\" \\n\\n# load PDF file\\ndoc = aw.Document(\"PDF.pdf\", loadOptions)\\n\\n# convert PDF to Word\\ndoc.save(\"pdf-to-word.docx\")\\n'"
      ]
     },
     "execution_count": 39,
     "metadata": {},
     "output_type": "execute_result"
    }
   ],
   "source": [
    "'''\n",
    "import aspose.words as aw\n",
    "\n",
    "# create PDF load options\n",
    "loadOptions = aw.saving.PdfLoadOptions()\n",
    "loadOptions.load_format = aw.LoadFormat.PDF \n",
    "\n",
    "# set index of the starting page and page count\n",
    "loadOptions.page_index = 0\n",
    "loadOptions.page_count = 1\n",
    "\n",
    "# skip images in PDF\n",
    "loadOptions.skip_pdf_images = True\n",
    "\n",
    "# to set password for encrypted PDF files\n",
    "#loadOptions.password = \"12345\" \n",
    "\n",
    "# load PDF file\n",
    "doc = aw.Document(\"PDF.pdf\", loadOptions)\n",
    "\n",
    "# convert PDF to Word\n",
    "doc.save(\"pdf-to-word.docx\")\n",
    "'''"
   ]
  },
  {
   "cell_type": "code",
   "execution_count": 40,
   "id": "ae6e8941",
   "metadata": {},
   "outputs": [
    {
     "data": {
      "text/plain": [
       "<aspose.words.saving.SaveOutputParameters object at 0x0000023DA3E19410>"
      ]
     },
     "execution_count": 40,
     "metadata": {},
     "output_type": "execute_result"
    }
   ],
   "source": [
    "# load the PDF file\n",
    "doc = aw.Document(\"doc.pdf\")\n",
    "\n",
    "# convert PDF to Word DOCX format\n",
    "doc.save(\"docs.docx\")"
   ]
  },
  {
   "cell_type": "code",
   "execution_count": null,
   "id": "d258b8de",
   "metadata": {},
   "outputs": [],
   "source": []
  }
 ],
 "metadata": {
  "kernelspec": {
   "display_name": "Python 3 (ipykernel)",
   "language": "python",
   "name": "python3"
  },
  "language_info": {
   "codemirror_mode": {
    "name": "ipython",
    "version": 3
   },
   "file_extension": ".py",
   "mimetype": "text/x-python",
   "name": "python",
   "nbconvert_exporter": "python",
   "pygments_lexer": "ipython3",
   "version": "3.9.13"
  }
 },
 "nbformat": 4,
 "nbformat_minor": 5
}
