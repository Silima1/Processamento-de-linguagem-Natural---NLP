{
 "cells": [
  {
   "cell_type": "markdown",
   "id": "4be0b802",
   "metadata": {},
   "source": [
    "# CLASSIFICACAO DE EMOCOES - ALEGRIA & MEDO"
   ]
  },
  {
   "cell_type": "code",
   "execution_count": 1,
   "id": "75bed857",
   "metadata": {},
   "outputs": [],
   "source": [
    "import pandas as pd\n",
    "import numpy as np\n",
    "import random\n",
    "import spacy\n",
    "import seaborn as sns\n",
    "import string"
   ]
  },
  {
   "cell_type": "code",
   "execution_count": 2,
   "id": "be7b7378",
   "metadata": {},
   "outputs": [],
   "source": [
    "base_train = pd.read_csv('../Dados/Bases_de_dados/base_treinamento.txt', encoding = 'utf-8')"
   ]
  },
  {
   "cell_type": "code",
   "execution_count": 3,
   "id": "d96a0896",
   "metadata": {},
   "outputs": [
    {
     "data": {
      "text/plain": [
       "(196, 2)"
      ]
     },
     "execution_count": 3,
     "metadata": {},
     "output_type": "execute_result"
    }
   ],
   "source": [
    "base_train.shape"
   ]
  },
  {
   "cell_type": "code",
   "execution_count": 4,
   "id": "a5c2f278",
   "metadata": {},
   "outputs": [
    {
     "data": {
      "text/html": [
       "<div>\n",
       "<style scoped>\n",
       "    .dataframe tbody tr th:only-of-type {\n",
       "        vertical-align: middle;\n",
       "    }\n",
       "\n",
       "    .dataframe tbody tr th {\n",
       "        vertical-align: top;\n",
       "    }\n",
       "\n",
       "    .dataframe thead th {\n",
       "        text-align: right;\n",
       "    }\n",
       "</style>\n",
       "<table border=\"1\" class=\"dataframe\">\n",
       "  <thead>\n",
       "    <tr style=\"text-align: right;\">\n",
       "      <th></th>\n",
       "      <th>texto</th>\n",
       "      <th>emocao</th>\n",
       "    </tr>\n",
       "  </thead>\n",
       "  <tbody>\n",
       "    <tr>\n",
       "      <th>0</th>\n",
       "      <td>este trabalho é agradável</td>\n",
       "      <td>alegria</td>\n",
       "    </tr>\n",
       "    <tr>\n",
       "      <th>1</th>\n",
       "      <td>gosto de ficar no seu aconchego</td>\n",
       "      <td>alegria</td>\n",
       "    </tr>\n",
       "    <tr>\n",
       "      <th>2</th>\n",
       "      <td>fiz a adesão ao curso hoje</td>\n",
       "      <td>alegria</td>\n",
       "    </tr>\n",
       "    <tr>\n",
       "      <th>3</th>\n",
       "      <td>eu sou admirada por muitos</td>\n",
       "      <td>alegria</td>\n",
       "    </tr>\n",
       "    <tr>\n",
       "      <th>4</th>\n",
       "      <td>adoro como você</td>\n",
       "      <td>alegria</td>\n",
       "    </tr>\n",
       "    <tr>\n",
       "      <th>5</th>\n",
       "      <td>adoro seu cabelo macio</td>\n",
       "      <td>alegria</td>\n",
       "    </tr>\n",
       "    <tr>\n",
       "      <th>6</th>\n",
       "      <td>adoro a cor dos seus olhos</td>\n",
       "      <td>alegria</td>\n",
       "    </tr>\n",
       "    <tr>\n",
       "      <th>7</th>\n",
       "      <td>somo tão amáveis um com o outro</td>\n",
       "      <td>alegria</td>\n",
       "    </tr>\n",
       "    <tr>\n",
       "      <th>8</th>\n",
       "      <td>sinto uma grande afeição por ele</td>\n",
       "      <td>alegria</td>\n",
       "    </tr>\n",
       "    <tr>\n",
       "      <th>9</th>\n",
       "      <td>quero agradar meus filhos</td>\n",
       "      <td>alegria</td>\n",
       "    </tr>\n",
       "    <tr>\n",
       "      <th>10</th>\n",
       "      <td>me sinto completamente amado</td>\n",
       "      <td>alegria</td>\n",
       "    </tr>\n",
       "    <tr>\n",
       "      <th>11</th>\n",
       "      <td>eu amo você</td>\n",
       "      <td>alegria</td>\n",
       "    </tr>\n",
       "    <tr>\n",
       "      <th>12</th>\n",
       "      <td>que grande alívio</td>\n",
       "      <td>alegria</td>\n",
       "    </tr>\n",
       "    <tr>\n",
       "      <th>13</th>\n",
       "      <td>a dor esta amenizando finalmente</td>\n",
       "      <td>alegria</td>\n",
       "    </tr>\n",
       "    <tr>\n",
       "      <th>14</th>\n",
       "      <td>acho que me apaixonei</td>\n",
       "      <td>alegria</td>\n",
       "    </tr>\n",
       "    <tr>\n",
       "      <th>15</th>\n",
       "      <td>amar é maravilhoso</td>\n",
       "      <td>alegria</td>\n",
       "    </tr>\n",
       "  </tbody>\n",
       "</table>\n",
       "</div>"
      ],
      "text/plain": [
       "                               texto   emocao\n",
       "0          este trabalho é agradável  alegria\n",
       "1    gosto de ficar no seu aconchego  alegria\n",
       "2         fiz a adesão ao curso hoje  alegria\n",
       "3         eu sou admirada por muitos  alegria\n",
       "4                    adoro como você  alegria\n",
       "5             adoro seu cabelo macio  alegria\n",
       "6         adoro a cor dos seus olhos  alegria\n",
       "7    somo tão amáveis um com o outro  alegria\n",
       "8   sinto uma grande afeição por ele  alegria\n",
       "9          quero agradar meus filhos  alegria\n",
       "10      me sinto completamente amado  alegria\n",
       "11                       eu amo você  alegria\n",
       "12                 que grande alívio  alegria\n",
       "13  a dor esta amenizando finalmente  alegria\n",
       "14             acho que me apaixonei  alegria\n",
       "15                amar é maravilhoso  alegria"
      ]
     },
     "execution_count": 4,
     "metadata": {},
     "output_type": "execute_result"
    }
   ],
   "source": [
    "base_train.head(16) # PRIMEIROS 5 REGISTOS OU DEFINIDOS"
   ]
  },
  {
   "cell_type": "code",
   "execution_count": 5,
   "id": "d0876991",
   "metadata": {},
   "outputs": [
    {
     "data": {
      "text/html": [
       "<div>\n",
       "<style scoped>\n",
       "    .dataframe tbody tr th:only-of-type {\n",
       "        vertical-align: middle;\n",
       "    }\n",
       "\n",
       "    .dataframe tbody tr th {\n",
       "        vertical-align: top;\n",
       "    }\n",
       "\n",
       "    .dataframe thead th {\n",
       "        text-align: right;\n",
       "    }\n",
       "</style>\n",
       "<table border=\"1\" class=\"dataframe\">\n",
       "  <thead>\n",
       "    <tr style=\"text-align: right;\">\n",
       "      <th></th>\n",
       "      <th>texto</th>\n",
       "      <th>emocao</th>\n",
       "    </tr>\n",
       "  </thead>\n",
       "  <tbody>\n",
       "    <tr>\n",
       "      <th>186</th>\n",
       "      <td>a noite e muito perigosa</td>\n",
       "      <td>medo</td>\n",
       "    </tr>\n",
       "    <tr>\n",
       "      <th>187</th>\n",
       "      <td>estou estremecendo com essa casa</td>\n",
       "      <td>medo</td>\n",
       "    </tr>\n",
       "    <tr>\n",
       "      <th>188</th>\n",
       "      <td>olha aquela criatura se movendo monstruosamente</td>\n",
       "      <td>medo</td>\n",
       "    </tr>\n",
       "    <tr>\n",
       "      <th>189</th>\n",
       "      <td>não aguento este suspense</td>\n",
       "      <td>medo</td>\n",
       "    </tr>\n",
       "    <tr>\n",
       "      <th>190</th>\n",
       "      <td>afugente os cães</td>\n",
       "      <td>medo</td>\n",
       "    </tr>\n",
       "    <tr>\n",
       "      <th>191</th>\n",
       "      <td>estou chocado e amedrontado com este assassina...</td>\n",
       "      <td>medo</td>\n",
       "    </tr>\n",
       "    <tr>\n",
       "      <th>192</th>\n",
       "      <td>é preciso afugenta com ímpeto este medo do inf...</td>\n",
       "      <td>medo</td>\n",
       "    </tr>\n",
       "    <tr>\n",
       "      <th>193</th>\n",
       "      <td>políticos usam suas forças para afugentar e am...</td>\n",
       "      <td>medo</td>\n",
       "    </tr>\n",
       "    <tr>\n",
       "      <th>194</th>\n",
       "      <td>o objetivo disso e apenas me amedrontar mais</td>\n",
       "      <td>medo</td>\n",
       "    </tr>\n",
       "    <tr>\n",
       "      <th>195</th>\n",
       "      <td>isso me apavora</td>\n",
       "      <td>medo</td>\n",
       "    </tr>\n",
       "  </tbody>\n",
       "</table>\n",
       "</div>"
      ],
      "text/plain": [
       "                                                 texto emocao\n",
       "186                           a noite e muito perigosa   medo\n",
       "187                   estou estremecendo com essa casa   medo\n",
       "188    olha aquela criatura se movendo monstruosamente   medo\n",
       "189                          não aguento este suspense   medo\n",
       "190                                   afugente os cães   medo\n",
       "191  estou chocado e amedrontado com este assassina...   medo\n",
       "192  é preciso afugenta com ímpeto este medo do inf...   medo\n",
       "193  políticos usam suas forças para afugentar e am...   medo\n",
       "194       o objetivo disso e apenas me amedrontar mais   medo\n",
       "195                                    isso me apavora   medo"
      ]
     },
     "execution_count": 5,
     "metadata": {},
     "output_type": "execute_result"
    }
   ],
   "source": [
    "base_train.tail(10) # ULTIMOS 5 REGISTOS"
   ]
  },
  {
   "cell_type": "code",
   "execution_count": 6,
   "id": "85177137",
   "metadata": {},
   "outputs": [
    {
     "name": "stderr",
     "output_type": "stream",
     "text": [
      "C:\\Users\\leone\\Anaconda3\\lib\\site-packages\\seaborn\\_decorators.py:36: FutureWarning: Pass the following variable as a keyword arg: x. From version 0.12, the only valid positional argument will be `data`, and passing other arguments without an explicit keyword will result in an error or misinterpretation.\n",
      "  warnings.warn(\n"
     ]
    },
    {
     "data": {
      "image/png": "[encoded data removed]",
      "text/plain": [
       "<Figure size 640x480 with 1 Axes>"
      ]
     },
     "metadata": {},
     "output_type": "display_data"
    }
   ],
   "source": [
    "sns.countplot(base_train['emocao'], label = 'Contagem'); # constata-se desbalanceamento entre as instancias"
   ]
  },
  {
   "cell_type": "markdown",
   "id": "b29b4bb0",
   "metadata": {},
   "source": [
    "# PRE-PROCESSAMENTO"
   ]
  },
  {
   "cell_type": "code",
   "execution_count": 7,
   "id": "7d3cca04",
   "metadata": {},
   "outputs": [
    {
     "data": {
      "text/plain": [
       "'!\"#$%&\\'()*+,-./:;<=>?@[\\\\]^_`{|}~'"
      ]
     },
     "execution_count": 7,
     "metadata": {},
     "output_type": "execute_result"
    }
   ],
   "source": [
    "#VERIFICACAO DE PONTUACOES\n",
    "pontos = string.punctuation\n",
    "pontos"
   ]
  },
  {
   "cell_type": "code",
   "execution_count": 8,
   "id": "38012762",
   "metadata": {},
   "outputs": [],
   "source": [
    "# Visualizacao de stop words\n",
    "from spacy.lang.pt.stop_words import STOP_WORDS\n",
    "stop_words = STOP_WORDS"
   ]
  },
  {
   "cell_type": "code",
   "execution_count": 9,
   "id": "1723dcd9",
   "metadata": {},
   "outputs": [
    {
     "data": {
      "text/plain": [
       "416"
      ]
     },
     "execution_count": 9,
     "metadata": {},
     "output_type": "execute_result"
    }
   ],
   "source": [
    "len(stop_words)"
   ]
  },
  {
   "cell_type": "code",
   "execution_count": 10,
   "id": "8922ffd6",
   "metadata": {},
   "outputs": [
    {
     "data": {
      "text/plain": [
       "<spacy.lang.pt.Portuguese at 0x1ca65a97d60>"
      ]
     },
     "execution_count": 10,
     "metadata": {},
     "output_type": "execute_result"
    }
   ],
   "source": [
    "# CARREGAMENTO DO MODULO SPACY EM PORTUGUES\n",
    "pln = spacy.load('pt_core_news_sm')\n",
    "pln"
   ]
  },
  {
   "cell_type": "code",
   "execution_count": 11,
   "id": "a5571f5a",
   "metadata": {},
   "outputs": [],
   "source": [
    "#CRIACAO DA FUNCAO PARA O PREPROCESSAMENTO\n",
    "def preprocessamento(texto):\n",
    "    texto = texto.lower() # conversao de todo o texto em minusculas\n",
    "    documento = pln(texto) # Objeto\n",
    "    \n",
    "    lista = []\n",
    "    for token in documento:\n",
    "        lista.append(token.lemma_)# funcao de lematizacao\n",
    "    lista = [palavra for palavra in lista if palavra not in stop_words and palavra not in pontos]\n",
    "    lista = ' '.join([str(elemento) for elemento in lista if not elemento.isdigit()]) # REMOCAO DE NUMERICOS\n",
    "    return lista        "
   ]
  },
  {
   "cell_type": "code",
   "execution_count": 12,
   "id": "5f6eec51",
   "metadata": {},
   "outputs": [
    {
     "data": {
      "text/plain": [
       "'aprenndendo preprocessamento linguagem natural curso ml'"
      ]
     },
     "execution_count": 12,
     "metadata": {},
     "output_type": "execute_result"
    }
   ],
   "source": [
    "teste = preprocessamento('Estou AprenNdendo 1 10 12 preprocessamento de linguagem natural, Curso ML')\n",
    "teste"
   ]
  },
  {
   "cell_type": "markdown",
   "id": "932ff6f7",
   "metadata": {},
   "source": [
    "# PRE_PROCESSAMENTO DA BASE DE DADOS"
   ]
  },
  {
   "cell_type": "code",
   "execution_count": 13,
   "id": "c377b8ad",
   "metadata": {},
   "outputs": [
    {
     "data": {
      "text/html": [
       "<div>\n",
       "<style scoped>\n",
       "    .dataframe tbody tr th:only-of-type {\n",
       "        vertical-align: middle;\n",
       "    }\n",
       "\n",
       "    .dataframe tbody tr th {\n",
       "        vertical-align: top;\n",
       "    }\n",
       "\n",
       "    .dataframe thead th {\n",
       "        text-align: right;\n",
       "    }\n",
       "</style>\n",
       "<table border=\"1\" class=\"dataframe\">\n",
       "  <thead>\n",
       "    <tr style=\"text-align: right;\">\n",
       "      <th></th>\n",
       "      <th>texto</th>\n",
       "      <th>emocao</th>\n",
       "    </tr>\n",
       "  </thead>\n",
       "  <tbody>\n",
       "    <tr>\n",
       "      <th>0</th>\n",
       "      <td>este trabalho é agradável</td>\n",
       "      <td>alegria</td>\n",
       "    </tr>\n",
       "    <tr>\n",
       "      <th>1</th>\n",
       "      <td>gosto de ficar no seu aconchego</td>\n",
       "      <td>alegria</td>\n",
       "    </tr>\n",
       "    <tr>\n",
       "      <th>2</th>\n",
       "      <td>fiz a adesão ao curso hoje</td>\n",
       "      <td>alegria</td>\n",
       "    </tr>\n",
       "    <tr>\n",
       "      <th>3</th>\n",
       "      <td>eu sou admirada por muitos</td>\n",
       "      <td>alegria</td>\n",
       "    </tr>\n",
       "    <tr>\n",
       "      <th>4</th>\n",
       "      <td>adoro como você</td>\n",
       "      <td>alegria</td>\n",
       "    </tr>\n",
       "    <tr>\n",
       "      <th>5</th>\n",
       "      <td>adoro seu cabelo macio</td>\n",
       "      <td>alegria</td>\n",
       "    </tr>\n",
       "    <tr>\n",
       "      <th>6</th>\n",
       "      <td>adoro a cor dos seus olhos</td>\n",
       "      <td>alegria</td>\n",
       "    </tr>\n",
       "    <tr>\n",
       "      <th>7</th>\n",
       "      <td>somo tão amáveis um com o outro</td>\n",
       "      <td>alegria</td>\n",
       "    </tr>\n",
       "    <tr>\n",
       "      <th>8</th>\n",
       "      <td>sinto uma grande afeição por ele</td>\n",
       "      <td>alegria</td>\n",
       "    </tr>\n",
       "    <tr>\n",
       "      <th>9</th>\n",
       "      <td>quero agradar meus filhos</td>\n",
       "      <td>alegria</td>\n",
       "    </tr>\n",
       "    <tr>\n",
       "      <th>10</th>\n",
       "      <td>me sinto completamente amado</td>\n",
       "      <td>alegria</td>\n",
       "    </tr>\n",
       "    <tr>\n",
       "      <th>11</th>\n",
       "      <td>eu amo você</td>\n",
       "      <td>alegria</td>\n",
       "    </tr>\n",
       "    <tr>\n",
       "      <th>12</th>\n",
       "      <td>que grande alívio</td>\n",
       "      <td>alegria</td>\n",
       "    </tr>\n",
       "  </tbody>\n",
       "</table>\n",
       "</div>"
      ],
      "text/plain": [
       "                               texto   emocao\n",
       "0          este trabalho é agradável  alegria\n",
       "1    gosto de ficar no seu aconchego  alegria\n",
       "2         fiz a adesão ao curso hoje  alegria\n",
       "3         eu sou admirada por muitos  alegria\n",
       "4                    adoro como você  alegria\n",
       "5             adoro seu cabelo macio  alegria\n",
       "6         adoro a cor dos seus olhos  alegria\n",
       "7    somo tão amáveis um com o outro  alegria\n",
       "8   sinto uma grande afeição por ele  alegria\n",
       "9          quero agradar meus filhos  alegria\n",
       "10      me sinto completamente amado  alegria\n",
       "11                       eu amo você  alegria\n",
       "12                 que grande alívio  alegria"
      ]
     },
     "execution_count": 13,
     "metadata": {},
     "output_type": "execute_result"
    }
   ],
   "source": [
    "base_train.head(13)"
   ]
  },
  {
   "cell_type": "code",
   "execution_count": 14,
   "id": "4fcd010f",
   "metadata": {},
   "outputs": [
    {
     "data": {
      "text/html": [
       "<div>\n",
       "<style scoped>\n",
       "    .dataframe tbody tr th:only-of-type {\n",
       "        vertical-align: middle;\n",
       "    }\n",
       "\n",
       "    .dataframe tbody tr th {\n",
       "        vertical-align: top;\n",
       "    }\n",
       "\n",
       "    .dataframe thead th {\n",
       "        text-align: right;\n",
       "    }\n",
       "</style>\n",
       "<table border=\"1\" class=\"dataframe\">\n",
       "  <thead>\n",
       "    <tr style=\"text-align: right;\">\n",
       "      <th></th>\n",
       "      <th>texto</th>\n",
       "      <th>emocao</th>\n",
       "    </tr>\n",
       "  </thead>\n",
       "  <tbody>\n",
       "    <tr>\n",
       "      <th>0</th>\n",
       "      <td>trabalho agradável</td>\n",
       "      <td>alegria</td>\n",
       "    </tr>\n",
       "    <tr>\n",
       "      <th>1</th>\n",
       "      <td>gosto ficar em o aconchego</td>\n",
       "      <td>alegria</td>\n",
       "    </tr>\n",
       "    <tr>\n",
       "      <th>2</th>\n",
       "      <td>fiz adesão a o curso hoje</td>\n",
       "      <td>alegria</td>\n",
       "    </tr>\n",
       "    <tr>\n",
       "      <th>3</th>\n",
       "      <td>admirar</td>\n",
       "      <td>alegria</td>\n",
       "    </tr>\n",
       "    <tr>\n",
       "      <th>4</th>\n",
       "      <td>adoro</td>\n",
       "      <td>alegria</td>\n",
       "    </tr>\n",
       "    <tr>\n",
       "      <th>5</th>\n",
       "      <td>adorar cabelo Macio</td>\n",
       "      <td>alegria</td>\n",
       "    </tr>\n",
       "    <tr>\n",
       "      <th>6</th>\n",
       "      <td>adorar cor de o olho</td>\n",
       "      <td>alegria</td>\n",
       "    </tr>\n",
       "    <tr>\n",
       "      <th>7</th>\n",
       "      <td>somo amávil outro</td>\n",
       "      <td>alegria</td>\n",
       "    </tr>\n",
       "    <tr>\n",
       "      <th>8</th>\n",
       "      <td>sinto afeição</td>\n",
       "      <td>alegria</td>\n",
       "    </tr>\n",
       "    <tr>\n",
       "      <th>9</th>\n",
       "      <td>querer agradar filho</td>\n",
       "      <td>alegria</td>\n",
       "    </tr>\n",
       "    <tr>\n",
       "      <th>10</th>\n",
       "      <td>sinto completamente amar</td>\n",
       "      <td>alegria</td>\n",
       "    </tr>\n",
       "    <tr>\n",
       "      <th>11</th>\n",
       "      <td>amar</td>\n",
       "      <td>alegria</td>\n",
       "    </tr>\n",
       "  </tbody>\n",
       "</table>\n",
       "</div>"
      ],
      "text/plain": [
       "                         texto   emocao\n",
       "0           trabalho agradável  alegria\n",
       "1   gosto ficar em o aconchego  alegria\n",
       "2    fiz adesão a o curso hoje  alegria\n",
       "3                      admirar  alegria\n",
       "4                        adoro  alegria\n",
       "5          adorar cabelo Macio  alegria\n",
       "6         adorar cor de o olho  alegria\n",
       "7            somo amávil outro  alegria\n",
       "8                sinto afeição  alegria\n",
       "9         querer agradar filho  alegria\n",
       "10    sinto completamente amar  alegria\n",
       "11                        amar  alegria"
      ]
     },
     "execution_count": 14,
     "metadata": {},
     "output_type": "execute_result"
    }
   ],
   "source": [
    "base_train['texto'] = base_train['texto'].apply(preprocessamento) # aplicacao do prep anterior\n",
    "base_train.head(12)"
   ]
  },
  {
   "cell_type": "markdown",
   "id": "ee4aabdb",
   "metadata": {},
   "source": [
    "# TRATAMENTO DA CLASSE PARA SUBMETER AO ALGORITMO SPACY"
   ]
  },
  {
   "cell_type": "code",
   "execution_count": 15,
   "id": "87607093",
   "metadata": {},
   "outputs": [],
   "source": [
    "exemplo_base_train = [['Este trabalho e agradavel', {'ALEGRIA': True, 'MEDO': False}],\n",
    "                     ['Este lugar continua assustador', {'ALEGRIA': False, 'MEDO': True}]]"
   ]
  },
  {
   "cell_type": "code",
   "execution_count": 16,
   "id": "9c7f4fb8",
   "metadata": {},
   "outputs": [
    {
     "data": {
      "text/plain": [
       "list"
      ]
     },
     "execution_count": 16,
     "metadata": {},
     "output_type": "execute_result"
    }
   ],
   "source": [
    "type(exemplo_base_train)"
   ]
  },
  {
   "cell_type": "code",
   "execution_count": 17,
   "id": "c92b00db",
   "metadata": {},
   "outputs": [
    {
     "data": {
      "text/plain": [
       "'Este trabalho e agradavel'"
      ]
     },
     "execution_count": 17,
     "metadata": {},
     "output_type": "execute_result"
    }
   ],
   "source": [
    "exemplo_base_train[0][0]"
   ]
  },
  {
   "cell_type": "code",
   "execution_count": 18,
   "id": "e9373129",
   "metadata": {},
   "outputs": [
    {
     "data": {
      "text/plain": [
       "{'ALEGRIA': True, 'MEDO': False}"
      ]
     },
     "execution_count": 18,
     "metadata": {},
     "output_type": "execute_result"
    }
   ],
   "source": [
    "exemplo_base_train[0][1]"
   ]
  },
  {
   "cell_type": "code",
   "execution_count": 19,
   "id": "942b3711",
   "metadata": {},
   "outputs": [
    {
     "data": {
      "text/plain": [
       "dict"
      ]
     },
     "execution_count": 19,
     "metadata": {},
     "output_type": "execute_result"
    }
   ],
   "source": [
    "type(exemplo_base_train[0][1])"
   ]
  },
  {
   "cell_type": "code",
   "execution_count": 20,
   "id": "220646e5",
   "metadata": {},
   "outputs": [],
   "source": [
    "base_train_final = []\n",
    "for texto, emocao in zip(base_train['texto'], base_train['emocao']):\n",
    "    if emocao == 'alegria':\n",
    "        dic = ({'ALEGRIA': True, 'MEDO': False})\n",
    "    elif emocao == 'medo':\n",
    "        dic = ({'ALEGRIA': False, 'MEDO': True})\n",
    "    base_train_final.append([texto, dic.copy()])"
   ]
  },
  {
   "cell_type": "code",
   "execution_count": 21,
   "id": "a403db4a",
   "metadata": {},
   "outputs": [
    {
     "data": {
      "text/plain": [
       "196"
      ]
     },
     "execution_count": 21,
     "metadata": {},
     "output_type": "execute_result"
    }
   ],
   "source": [
    " len(base_train_final)"
   ]
  },
  {
   "cell_type": "code",
   "execution_count": 22,
   "id": "a8e5af97",
   "metadata": {},
   "outputs": [
    {
     "data": {
      "text/plain": [
       "[['trabalho agradável', {'ALEGRIA': True, 'MEDO': False}],\n",
       " ['gosto ficar em o aconchego', {'ALEGRIA': True, 'MEDO': False}],\n",
       " ['fiz adesão a o curso hoje', {'ALEGRIA': True, 'MEDO': False}],\n",
       " ['admirar', {'ALEGRIA': True, 'MEDO': False}],\n",
       " ['adoro', {'ALEGRIA': True, 'MEDO': False}],\n",
       " ['adorar cabelo Macio', {'ALEGRIA': True, 'MEDO': False}],\n",
       " ['adorar cor de o olho', {'ALEGRIA': True, 'MEDO': False}],\n",
       " ['somo amávil outro', {'ALEGRIA': True, 'MEDO': False}],\n",
       " ['sinto afeição', {'ALEGRIA': True, 'MEDO': False}],\n",
       " ['querer agradar filho', {'ALEGRIA': True, 'MEDO': False}],\n",
       " ['sinto completamente amar', {'ALEGRIA': True, 'MEDO': False}],\n",
       " ['amar', {'ALEGRIA': True, 'MEDO': False}],\n",
       " ['alívio', {'ALEGRIA': True, 'MEDO': False}],\n",
       " ['dor amenizar finalmente', {'ALEGRIA': True, 'MEDO': False}],\n",
       " ['achar apaixonar', {'ALEGRIA': True, 'MEDO': False}],\n",
       " ['amar maravilhoso', {'ALEGRIA': True, 'MEDO': False}],\n",
       " ['sentindar animar', {'ALEGRIA': True, 'MEDO': False}],\n",
       " ['sinto hoje', {'ALEGRIA': True, 'MEDO': False}],\n",
       " ['luar belo', {'ALEGRIA': True, 'MEDO': False}],\n",
       " ['dia bonito', {'ALEGRIA': True, 'MEDO': False}],\n",
       " ['afortunar', {'ALEGRIA': True, 'MEDO': False}],\n",
       " ['maravilha de o mundo', {'ALEGRIA': True, 'MEDO': False}],\n",
       " ['recebi carinho hoje de o colega', {'ALEGRIA': True, 'MEDO': False}],\n",
       " ['sentir reconfortar hoje', {'ALEGRIA': True, 'MEDO': False}],\n",
       " ['amigo', {'ALEGRIA': True, 'MEDO': False}],\n",
       " ['contente resultado de o teste', {'ALEGRIA': True, 'MEDO': False}],\n",
       " ['pintura brilhante', {'ALEGRIA': True, 'MEDO': False}],\n",
       " ['água abundância', {'ALEGRIA': True, 'MEDO': False}],\n",
       " ['roupa delicado', {'ALEGRIA': True, 'MEDO': False}],\n",
       " ['comediante', {'ALEGRIA': True, 'MEDO': False}],\n",
       " ['bondade vir', {'ALEGRIA': True, 'MEDO': False}],\n",
       " ['amor lir', {'ALEGRIA': True, 'MEDO': False}],\n",
       " ['amizade durar', {'ALEGRIA': True, 'MEDO': False}],\n",
       " ['eufórico notícia', {'ALEGRIA': True, 'MEDO': False}],\n",
       " ['realmente fiel', {'ALEGRIA': True, 'MEDO': False}],\n",
       " ['festa comemorar aniversário', {'ALEGRIA': True, 'MEDO': False}],\n",
       " ['graças deu enxergueir certo', {'ALEGRIA': True, 'MEDO': False}],\n",
       " ['escolha', {'ALEGRIA': True, 'MEDO': False}],\n",
       " ['incrível belo', {'ALEGRIA': True, 'MEDO': False}],\n",
       " ['engraçado explicar', {'ALEGRIA': True, 'MEDO': False}],\n",
       " ['emocionante em este', {'ALEGRIA': True, 'MEDO': False}],\n",
       " ['cativar por o olhar', {'ALEGRIA': True, 'MEDO': False}],\n",
       " ['loucamente apaixonar', {'ALEGRIA': True, 'MEDO': False}],\n",
       " ['dúvida', {'ALEGRIA': True, 'MEDO': False}],\n",
       " ['rodear por o abraço', {'ALEGRIA': True, 'MEDO': False}],\n",
       " ['vejor estrela por o', {'ALEGRIA': True, 'MEDO': False}],\n",
       " ['sintar sol', {'ALEGRIA': True, 'MEDO': False}],\n",
       " ['sorrir orelha orelha', {'ALEGRIA': True, 'MEDO': False}],\n",
       " ['valer pena', {'ALEGRIA': True, 'MEDO': False}],\n",
       " ['finalmente colocar amor', {'ALEGRIA': True, 'MEDO': False}],\n",
       " ['dançar noite adentro', {'ALEGRIA': True, 'MEDO': False}],\n",
       " ['amor brilhante', {'ALEGRIA': True, 'MEDO': False}],\n",
       " ['toquei coração durante', {'ALEGRIA': True, 'MEDO': False}],\n",
       " ['amiga companheira', {'ALEGRIA': True, 'MEDO': False}],\n",
       " ['trazer volta vida', {'ALEGRIA': True, 'MEDO': False}],\n",
       " ['sonho doce', {'ALEGRIA': True, 'MEDO': False}],\n",
       " ['adorar doce fruta', {'ALEGRIA': True, 'MEDO': False}],\n",
       " ['suco favorito', {'ALEGRIA': True, 'MEDO': False}],\n",
       " ['agradecido por o ajuda', {'ALEGRIA': True, 'MEDO': False}],\n",
       " ['enorme prazer equipe', {'ALEGRIA': True, 'MEDO': False}],\n",
       " ['trabalhar equipe', {'ALEGRIA': True, 'MEDO': False}],\n",
       " ['sinto flutuar em o ar', {'ALEGRIA': True, 'MEDO': False}],\n",
       " ['brisa agradável hoje', {'ALEGRIA': True, 'MEDO': False}],\n",
       " ['compatível', {'ALEGRIA': True, 'MEDO': False}],\n",
       " ['compatível outro', {'ALEGRIA': True, 'MEDO': False}],\n",
       " ['órgão compatível paciente', {'ALEGRIA': True, 'MEDO': False}],\n",
       " ['contente aceitar em o faculdade', {'ALEGRIA': True, 'MEDO': False}],\n",
       " ['aprovar em o exame', {'ALEGRIA': True, 'MEDO': False}],\n",
       " ['beneficiar por o empresa', {'ALEGRIA': True, 'MEDO': False}],\n",
       " ['cativante', {'ALEGRIA': True, 'MEDO': False}],\n",
       " ['contente', {'ALEGRIA': True, 'MEDO': False}],\n",
       " ['confortável', {'ALEGRIA': True, 'MEDO': False}],\n",
       " ['quente em este frio', {'ALEGRIA': True, 'MEDO': False}],\n",
       " ['elogio', {'ALEGRIA': True, 'MEDO': False}],\n",
       " ['chamar comemorar', {'ALEGRIA': True, 'MEDO': False}],\n",
       " ['desejável presença apresentação', {'ALEGRIA': True, 'MEDO': False}],\n",
       " ['grato', {'ALEGRIA': True, 'MEDO': False}],\n",
       " ['dedico em aquilo', {'ALEGRIA': True, 'MEDO': False}],\n",
       " ['completamente apaixonar', {'ALEGRIA': True, 'MEDO': False}],\n",
       " ['agitar noite', {'ALEGRIA': True, 'MEDO': False}],\n",
       " ['significar', {'ALEGRIA': True, 'MEDO': False}],\n",
       " ['agir preconceito julgamento', {'ALEGRIA': True, 'MEDO': False}],\n",
       " ['finalmente completei coleção maravilhoso',\n",
       "  {'ALEGRIA': True, 'MEDO': False}],\n",
       " ['rainha', {'ALEGRIA': True, 'MEDO': False}],\n",
       " ['satisfatoriamente anunciar vencedor de o jogo',\n",
       "  {'ALEGRIA': True, 'MEDO': False}],\n",
       " ['atrair facilmente', {'ALEGRIA': True, 'MEDO': False}],\n",
       " ['rapaz extremamente atraente', {'ALEGRIA': True, 'MEDO': False}],\n",
       " ['sinto-me viver', {'ALEGRIA': True, 'MEDO': False}],\n",
       " ['sinto-me paz', {'ALEGRIA': True, 'MEDO': False}],\n",
       " ['lucro', {'ALEGRIA': True, 'MEDO': False}],\n",
       " ['ordem', {'ALEGRIA': True, 'MEDO': False}],\n",
       " ['arrumar emprego junto', {'ALEGRIA': True, 'MEDO': False}],\n",
       " ['arrumação terminada alívio', {'ALEGRIA': True, 'MEDO': False}],\n",
       " ['câncer benigno', {'ALEGRIA': True, 'MEDO': False}],\n",
       " ['amor abundante', {'ALEGRIA': True, 'MEDO': False}],\n",
       " ['caridoso natal', {'ALEGRIA': True, 'MEDO': False}],\n",
       " ['charme atrair', {'ALEGRIA': True, 'MEDO': False}],\n",
       " ['charmoso querido', {'ALEGRIA': True, 'MEDO': False}],\n",
       " ['querido por o amigo', {'ALEGRIA': True, 'MEDO': False}],\n",
       " ['cuidadoso sentimento', {'ALEGRIA': True, 'MEDO': False}],\n",
       " ['comovido tamar caridade', {'ALEGRIA': True, 'MEDO': False}],\n",
       " ['chá quente reconfortante', {'ALEGRIA': True, 'MEDO': False}],\n",
       " ['alegr', {'ALEGRIA': True, 'MEDO': False}],\n",
       " ['aplaudir vencedor', {'ALEGRIA': True, 'MEDO': False}],\n",
       " ['palma aniversariante', {'ALEGRIA': True, 'MEDO': False}],\n",
       " ['desejor', {'ALEGRIA': True, 'MEDO': False}],\n",
       " ['hora apreciar vinho', {'ALEGRIA': True, 'MEDO': False}],\n",
       " ['apreciar presença escola', {'ALEGRIA': True, 'MEDO': False}],\n",
       " ['anseio trabalho', {'ALEGRIA': True, 'MEDO': False}],\n",
       " ['maravilhoso jogo amistoso', {'ALEGRIA': True, 'MEDO': False}],\n",
       " ['menimo apaziguadar', {'ALEGRIA': True, 'MEDO': False}],\n",
       " ['concretizar finalmente sonho', {'ALEGRIA': True, 'MEDO': False}],\n",
       " ['implorar mater', {'ALEGRIA': False, 'MEDO': True}],\n",
       " ['perigoso', {'ALEGRIA': False, 'MEDO': True}],\n",
       " ['seguro', {'ALEGRIA': False, 'MEDO': True}],\n",
       " ['correr pra', {'ALEGRIA': False, 'MEDO': True}],\n",
       " ['socorro querer roubar doce', {'ALEGRIA': False, 'MEDO': True}],\n",
       " ['cara perseguir', {'ALEGRIA': False, 'MEDO': True}],\n",
       " ['entro perigoso', {'ALEGRIA': False, 'MEDO': True}],\n",
       " ['continuar assustador', {'ALEGRIA': False, 'MEDO': True}],\n",
       " ['em o selva animal perigoso', {'ALEGRIA': False, 'MEDO': True}],\n",
       " ['avancer cautela', {'ALEGRIA': False, 'MEDO': True}],\n",
       " ['silencioso cuidado', {'ALEGRIA': False, 'MEDO': True}],\n",
       " ['deixe-me viver', {'ALEGRIA': False, 'MEDO': True}],\n",
       " ['ficar mesada tirar nota', {'ALEGRIA': False, 'MEDO': True}],\n",
       " ['parecer olho vigiar', {'ALEGRIA': False, 'MEDO': True}],\n",
       " ['temar sentença de o juiz negativo', {'ALEGRIA': False, 'MEDO': True}],\n",
       " ['missão arriscar', {'ALEGRIA': False, 'MEDO': True}],\n",
       " ['salvemr se puder', {'ALEGRIA': False, 'MEDO': True}],\n",
       " ['plano descobrir', {'ALEGRIA': False, 'MEDO': True}],\n",
       " ['culpa juro', {'ALEGRIA': False, 'MEDO': True}],\n",
       " ['tomar cuidado lobisomem', {'ALEGRIA': False, 'MEDO': True}],\n",
       " ['achar descobrir verdade', {'ALEGRIA': False, 'MEDO': True}],\n",
       " ['deus desaparecer', {'ALEGRIA': False, 'MEDO': True}],\n",
       " ['tomar vejam de aqui', {'ALEGRIA': False, 'MEDO': True}],\n",
       " ['manter segredo descobrir estaremo ferrar',\n",
       "  {'ALEGRIA': False, 'MEDO': True}],\n",
       " ['soltar inocente', {'ALEGRIA': False, 'MEDO': True}],\n",
       " ['ouvir passo', {'ALEGRIA': False, 'MEDO': True}],\n",
       " ['pedir socorro', {'ALEGRIA': False, 'MEDO': True}],\n",
       " ['cuidado curva em o estrada', {'ALEGRIA': False, 'MEDO': True}],\n",
       " ['parecer perigoso', {'ALEGRIA': False, 'MEDO': True}],\n",
       " ['tremer medo', {'ALEGRIA': False, 'MEDO': True}],\n",
       " ['socorro cair', {'ALEGRIA': False, 'MEDO': True}],\n",
       " ['floresta negro perigoso', {'ALEGRIA': False, 'MEDO': True}],\n",
       " ['ouço passo em o direção', {'ALEGRIA': False, 'MEDO': True}],\n",
       " ['achar arriscado', {'ALEGRIA': False, 'MEDO': True}],\n",
       " ['voltar perigoso', {'ALEGRIA': False, 'MEDO': True}],\n",
       " ['fuja acabarer morto', {'ALEGRIA': False, 'MEDO': True}],\n",
       " ['receio livrar de este situação', {'ALEGRIA': False, 'MEDO': True}],\n",
       " ['socorro armado', {'ALEGRIA': False, 'MEDO': True}],\n",
       " ['ei cuidado bater em o poste', {'ALEGRIA': False, 'MEDO': True}],\n",
       " ['socorro afundar', {'ALEGRIA': False, 'MEDO': True}],\n",
       " ['sério cuidado arma', {'ALEGRIA': False, 'MEDO': True}],\n",
       " ['tubarão atacar', {'ALEGRIA': False, 'MEDO': True}],\n",
       " ['sinto arrepio fico sozinho em o escuro', {'ALEGRIA': False, 'MEDO': True}],\n",
       " ['calmo dinheiro', {'ALEGRIA': False, 'MEDO': True}],\n",
       " ['achar enganar', {'ALEGRIA': False, 'MEDO': True}],\n",
       " ['ligeiro fugir depressa', {'ALEGRIA': False, 'MEDO': True}],\n",
       " ['crocodilo selvagem vir', {'ALEGRIA': False, 'MEDO': True}],\n",
       " ['ficarr achar', {'ALEGRIA': False, 'MEDO': True}],\n",
       " ['fuja tigre parecer faminto', {'ALEGRIA': False, 'MEDO': True}],\n",
       " ['saída preciso milagre', {'ALEGRIA': False, 'MEDO': True}],\n",
       " ['tirir socorro', {'ALEGRIA': False, 'MEDO': True}],\n",
       " ['nadar afogar', {'ALEGRIA': False, 'MEDO': True}],\n",
       " ['seguro', {'ALEGRIA': False, 'MEDO': True}],\n",
       " ['apanhar pai boletim', {'ALEGRIA': False, 'MEDO': True}],\n",
       " ['com si sair de aqui', {'ALEGRIA': False, 'MEDO': True}],\n",
       " ['sair poderar assaltar', {'ALEGRIA': False, 'MEDO': True}],\n",
       " ['deixar', {'ALEGRIA': False, 'MEDO': True}],\n",
       " ['esperar largar sozinho', {'ALEGRIA': False, 'MEDO': True}],\n",
       " ['temo por o segurança', {'ALEGRIA': False, 'MEDO': True}],\n",
       " ['entregar dinheiro mate', {'ALEGRIA': False, 'MEDO': True}],\n",
       " ['levar dinheiro', {'ALEGRIA': False, 'MEDO': True}],\n",
       " ['dirija rápido', {'ALEGRIA': False, 'MEDO': True}],\n",
       " ['descobrir prender', {'ALEGRIA': False, 'MEDO': True}],\n",
       " ['esperar façam nenhum', {'ALEGRIA': False, 'MEDO': True}],\n",
       " ['afogar ajudar sair de o água', {'ALEGRIA': False, 'MEDO': True}],\n",
       " ['estaremos salvo', {'ALEGRIA': False, 'MEDO': True}],\n",
       " ['querer pensar em o acontecer', {'ALEGRIA': False, 'MEDO': True}],\n",
       " ['em esse cidade desgraça de o outro', {'ALEGRIA': False, 'MEDO': True}],\n",
       " ['alguém ligar assustado', {'ALEGRIA': False, 'MEDO': True}],\n",
       " ['remediar matem', {'ALEGRIA': False, 'MEDO': True}],\n",
       " ['confiar em ele cautela', {'ALEGRIA': False, 'MEDO': True}],\n",
       " ['cautela', {'ALEGRIA': False, 'MEDO': True}],\n",
       " ['descobrir deu', {'ALEGRIA': False, 'MEDO': True}],\n",
       " ['receiar', {'ALEGRIA': False, 'MEDO': True}],\n",
       " ['noite perigoso', {'ALEGRIA': False, 'MEDO': True}],\n",
       " ['estremecer casa', {'ALEGRIA': False, 'MEDO': True}],\n",
       " ['olhar criatura mover monstruosamente', {'ALEGRIA': False, 'MEDO': True}],\n",
       " ['aguentar suspense', {'ALEGRIA': False, 'MEDO': True}],\n",
       " ['afugente cão', {'ALEGRIA': False, 'MEDO': True}],\n",
       " ['chocado amedrontar assassinato brutal', {'ALEGRIA': False, 'MEDO': True}],\n",
       " ['preciso afugentar ímpeto medo de o inferno',\n",
       "  {'ALEGRIA': False, 'MEDO': True}],\n",
       " ['político força afugentar amedrontar', {'ALEGRIA': False, 'MEDO': True}],\n",
       " ['objetivo de isso amedrontar', {'ALEGRIA': False, 'MEDO': True}],\n",
       " ['apavor', {'ALEGRIA': False, 'MEDO': True}]]"
      ]
     },
     "execution_count": 22,
     "metadata": {},
     "output_type": "execute_result"
    }
   ],
   "source": [
    "base_train_final"
   ]
  },
  {
   "cell_type": "markdown",
   "id": "a29afc57",
   "metadata": {},
   "source": [
    "# CRIACAO DO CLASSIFICADOR"
   ]
  },
  {
   "cell_type": "code",
   "execution_count": 23,
   "id": "c462118c",
   "metadata": {},
   "outputs": [],
   "source": [
    "modelo = spacy.blank('pt')\n",
    "categorias = modelo.add_pipe(\"textcat\")\n",
    "categorias.add_label('ALEGRIA')\n",
    "categorias.add_label('MEDO')\n",
    "#modelo.add_pipe(categorias)\n",
    "historico = []"
   ]
  },
  {
   "cell_type": "code",
   "execution_count": 24,
   "id": "dd6b9044",
   "metadata": {},
   "outputs": [
    {
     "name": "stdout",
     "output_type": "stream",
     "text": [
      "{}\n",
      "{}\n"
     ]
    }
   ],
   "source": [
    "from spacy.vocab import Vocab\n",
    "from spacy.language import Language\n",
    "modelo.begin_training()\n",
    "for epoca in range(200):\n",
    "    random.shuffle(base_train_final)\n",
    "    losses = {}\n",
    "    for batch in spacy.util.minibatch(base_train_final, 30):\n",
    "        textos = [modelo(texto) for texto, entities in batch]\n",
    "        annotations = [{'cats': entities} for texto, entities in batch]\n",
    "        #modelo = Language(Vocab())\n",
    "        #modelo.update([textos], losses = losses, drop = 0.3)\n",
    "    if epoca % 100 == 0:\n",
    "        print(losses)\n",
    "        historico.append(losses)"
   ]
  },
  {
   "cell_type": "code",
   "execution_count": 25,
   "id": "9efe0fbd",
   "metadata": {},
   "outputs": [],
   "source": [
    "modelo.to_disk(\"model_spacy\")"
   ]
  },
  {
   "cell_type": "code",
   "execution_count": 26,
   "id": "8768ff7b",
   "metadata": {},
   "outputs": [
    {
     "data": {
      "text/plain": [
       "<spacy.lang.pt.Portuguese at 0x1ca66928ac0>"
      ]
     },
     "execution_count": 26,
     "metadata": {},
     "output_type": "execute_result"
    }
   ],
   "source": [
    "modelo = spacy.load('model_spacy')\n",
    "modelo"
   ]
  },
  {
   "cell_type": "code",
   "execution_count": 27,
   "id": "f913ed8f",
   "metadata": {},
   "outputs": [
    {
     "data": {
      "text/plain": [
       "{'ALEGRIA': 0.5, 'MEDO': 0.5}"
      ]
     },
     "execution_count": 27,
     "metadata": {},
     "output_type": "execute_result"
    }
   ],
   "source": [
    "texto_P = 'O meu supervisor e bom demais'\n",
    "previsao = modelo(preprocessamento(texto_P))\n",
    "previsao.cats"
   ]
  },
  {
   "cell_type": "code",
   "execution_count": 28,
   "id": "6522659b",
   "metadata": {},
   "outputs": [
    {
     "data": {
      "text/plain": [
       "{'ALEGRIA': 0.5, 'MEDO': 0.5}"
      ]
     },
     "execution_count": 28,
     "metadata": {},
     "output_type": "execute_result"
    }
   ],
   "source": [
    "texto_N = 'Ela teme morrer de afogamento'\n",
    "previsao = modelo(preprocessamento(texto_N))\n",
    "previsao.cats"
   ]
  },
  {
   "cell_type": "code",
   "execution_count": null,
   "id": "74db3012",
   "metadata": {},
   "outputs": [],
   "source": [
    "previsoes"
   ]
  }
 ],
 "metadata": {
  "kernelspec": {
   "display_name": "Python 3 (ipykernel)",
   "language": "python",
   "name": "python3"
  },
  "language_info": {
   "codemirror_mode": {
    "name": "ipython",
    "version": 3
   },
   "file_extension": ".py",
   "mimetype": "text/x-python",
   "name": "python",
   "nbconvert_exporter": "python",
   "pygments_lexer": "ipython3",
   "version": "3.9.13"
  }
 },
 "nbformat": 4,
 "nbformat_minor": 5
}
